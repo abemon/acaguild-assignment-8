{
 "cells": [
  {
   "cell_type": "code",
   "execution_count": 1,
   "metadata": {},
   "outputs": [],
   "source": [
    "import numpy as np\n",
    "import datetime as dt\n",
    "import pandas as pd"
   ]
  },
  {
   "cell_type": "code",
   "execution_count": 12,
   "metadata": {},
   "outputs": [
    {
     "name": "stdout",
     "output_type": "stream",
     "text": [
      "   X  Y\n",
      "0  7  1\n",
      "1  2  2\n",
      "2  0  0\n",
      "3  3  1\n",
      "4  4  2\n",
      "5  2  3\n",
      "6  5  4\n",
      "7  0  0\n",
      "8  3  1\n",
      "9  4  2\n"
     ]
    }
   ],
   "source": [
    "#How-to-count-distance-to-the-previous-zero For each value, count the difference back to the previous zero \n",
    "#(or the start of the Series,whichever is closer)create a new column 'Y'Consider a DataFrame df where there is an integer column 'X'\n",
    "\n",
    "\n",
    "df = pd.DataFrame({'X': [7, 2, 0, 3, 4, 2, 5, 0, 3, 4]})\n",
    "izero = np.r_[-1, (df['X'] == 0).nonzero()[0]] # indices of zeros\n",
    "idx = np.arange(len(df))\n",
    "df['Y'] = idx - izero[np.searchsorted(izero - 1, idx) - 1]\n",
    "\n",
    "print(df)\n",
    "\n"
   ]
  },
  {
   "cell_type": "code",
   "execution_count": null,
   "metadata": {},
   "outputs": [],
   "source": []
  },
  {
   "cell_type": "code",
   "execution_count": 2,
   "metadata": {},
   "outputs": [],
   "source": [
    "dti = pd.date_range(start='2015-01-01', end='2015-12-31', freq='B') \n",
    "s = pd.Series(np.random.rand(len(dti)), index=dti)"
   ]
  },
  {
   "cell_type": "code",
   "execution_count": 4,
   "metadata": {},
   "outputs": [
    {
     "name": "stdout",
     "output_type": "stream",
     "text": [
      "DatetimeIndex(['2015-01-01', '2015-01-02', '2015-01-05', '2015-01-06',\n",
      "               '2015-01-07', '2015-01-08', '2015-01-09', '2015-01-12',\n",
      "               '2015-01-13', '2015-01-14',\n",
      "               ...\n",
      "               '2015-12-18', '2015-12-21', '2015-12-22', '2015-12-23',\n",
      "               '2015-12-24', '2015-12-25', '2015-12-28', '2015-12-29',\n",
      "               '2015-12-30', '2015-12-31'],\n",
      "              dtype='datetime64[ns]', length=261, freq='B')\n",
      "2015-01-01    0.731366\n",
      "2015-01-02    0.744339\n",
      "2015-01-05    0.739100\n",
      "2015-01-06    0.630546\n",
      "2015-01-07    0.496473\n",
      "2015-01-08    0.294702\n",
      "2015-01-09    0.174055\n",
      "2015-01-12    0.104078\n",
      "2015-01-13    0.188902\n",
      "2015-01-14    0.861528\n",
      "2015-01-15    0.881655\n",
      "2015-01-16    0.945004\n",
      "2015-01-19    0.128394\n",
      "2015-01-20    0.130149\n",
      "2015-01-21    0.614537\n",
      "2015-01-22    0.079982\n",
      "2015-01-23    0.269881\n",
      "2015-01-26    0.106976\n",
      "2015-01-27    0.140274\n",
      "2015-01-28    0.953551\n",
      "2015-01-29    0.389797\n",
      "2015-01-30    0.168441\n",
      "2015-02-02    0.705164\n",
      "2015-02-03    0.326483\n",
      "2015-02-04    0.623841\n",
      "2015-02-05    0.991681\n",
      "2015-02-06    0.094194\n",
      "2015-02-09    0.083467\n",
      "2015-02-10    0.649136\n",
      "2015-02-11    0.443480\n",
      "                ...   \n",
      "2015-11-20    0.569570\n",
      "2015-11-23    0.154810\n",
      "2015-11-24    0.852222\n",
      "2015-11-25    0.795783\n",
      "2015-11-26    0.895671\n",
      "2015-11-27    0.860356\n",
      "2015-11-30    0.971261\n",
      "2015-12-01    0.351839\n",
      "2015-12-02    0.835567\n",
      "2015-12-03    0.806622\n",
      "2015-12-04    0.593604\n",
      "2015-12-07    0.469823\n",
      "2015-12-08    0.094367\n",
      "2015-12-09    0.605425\n",
      "2015-12-10    0.328293\n",
      "2015-12-11    0.707328\n",
      "2015-12-14    0.385434\n",
      "2015-12-15    0.365200\n",
      "2015-12-16    0.839332\n",
      "2015-12-17    0.944534\n",
      "2015-12-18    0.728180\n",
      "2015-12-21    0.331037\n",
      "2015-12-22    0.448445\n",
      "2015-12-23    0.198585\n",
      "2015-12-24    0.874931\n",
      "2015-12-25    0.682635\n",
      "2015-12-28    0.353681\n",
      "2015-12-29    0.093036\n",
      "2015-12-30    0.803217\n",
      "2015-12-31    0.109964\n",
      "Freq: B, Length: 261, dtype: float64\n"
     ]
    }
   ],
   "source": [
    "print(dti)\n",
    "print(s)"
   ]
  },
  {
   "cell_type": "code",
   "execution_count": 5,
   "metadata": {},
   "outputs": [
    {
     "data": {
      "text/plain": [
       "27.62518801731967"
      ]
     },
     "execution_count": 5,
     "metadata": {},
     "output_type": "execute_result"
    }
   ],
   "source": [
    "#  Find the sum of the values in s for every Wednesday\n",
    "\n",
    "s[dti.weekday == 2].sum()"
   ]
  },
  {
   "cell_type": "code",
   "execution_count": 6,
   "metadata": {},
   "outputs": [
    {
     "name": "stderr",
     "output_type": "stream",
     "text": [
      "C:\\Users\\Shiven\\Anaconda3\\lib\\site-packages\\ipykernel_launcher.py:3: FutureWarning: how in .resample() is deprecated\n",
      "the new syntax is .resample(...).mean()\n",
      "  This is separate from the ipykernel package so we can avoid doing imports until\n"
     ]
    },
    {
     "data": {
      "text/plain": [
       "2015-01-31    0.444260\n",
       "2015-02-28    0.524041\n",
       "2015-03-31    0.475843\n",
       "2015-04-30    0.512005\n",
       "2015-05-31    0.610755\n",
       "2015-06-30    0.595394\n",
       "2015-07-31    0.417535\n",
       "2015-08-31    0.570386\n",
       "2015-09-30    0.418981\n",
       "2015-10-31    0.510098\n",
       "2015-11-30    0.612165\n",
       "2015-12-31    0.519612\n",
       "Freq: M, dtype: float64"
      ]
     },
     "execution_count": 6,
     "metadata": {},
     "output_type": "execute_result"
    }
   ],
   "source": [
    "# For each calendar month in s, find the mean of values\n",
    "\n",
    "s.resample('M', how='mean')"
   ]
  },
  {
   "cell_type": "code",
   "execution_count": 9,
   "metadata": {},
   "outputs": [
    {
     "name": "stderr",
     "output_type": "stream",
     "text": [
      "C:\\Users\\Shiven\\Anaconda3\\lib\\site-packages\\ipykernel_launcher.py:3: FutureWarning: pd.TimeGrouper is deprecated and will be removed; Please use pd.Grouper(freq=...)\n",
      "  This is separate from the ipykernel package so we can avoid doing imports until\n"
     ]
    },
    {
     "data": {
      "text/plain": [
       "2015-01-31   2015-01-28\n",
       "2015-05-31   2015-04-09\n",
       "2015-09-30   2015-06-08\n",
       "2016-01-31   2015-10-22\n",
       "dtype: datetime64[ns]"
      ]
     },
     "execution_count": 9,
     "metadata": {},
     "output_type": "execute_result"
    }
   ],
   "source": [
    "# For each group of four consecutive calendar months in s, find the date on which the highest value occurred\n",
    "\n",
    "s.groupby(pd.TimeGrouper('4M')).idxmax()"
   ]
  },
  {
   "cell_type": "code",
   "execution_count": null,
   "metadata": {},
   "outputs": [],
   "source": []
  }
 ],
 "metadata": {
  "kernelspec": {
   "display_name": "Python 3",
   "language": "python",
   "name": "python3"
  },
  "language_info": {
   "codemirror_mode": {
    "name": "ipython",
    "version": 3
   },
   "file_extension": ".py",
   "mimetype": "text/x-python",
   "name": "python",
   "nbconvert_exporter": "python",
   "pygments_lexer": "ipython3",
   "version": "3.6.4"
  }
 },
 "nbformat": 4,
 "nbformat_minor": 2
}
